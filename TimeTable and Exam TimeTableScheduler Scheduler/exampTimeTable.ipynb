{
 "cells": [
  {
   "cell_type": "code",
   "execution_count": 32,
   "metadata": {},
   "outputs": [
    {
     "name": "stdout",
     "output_type": "stream",
     "text": [
      "|    | Morning                                                               | Afternoon                         | Evening                           |\n",
      "|    |                                                                       |                                   |                                   |\n",
      "|    | 08:00am 09:00am 10:00am 11:00am                                       | 11:30am 12:30pm 01:30pm 02:30pm   | 03:00pm 04:00pm 05:00pm 06:00pm   |\n",
      "|---:|:----------------------------------------------------------------------|:----------------------------------|:----------------------------------|\n",
      "|  0 | EEE201 MTE102 CVE103 MTE104 CPE201 MEE208 MTE304 EEE200 MEE507 CPE400 | [' ']                             | [' ']                             |\n",
      "|  1 | CVE305 CPE106 CVE200 CPE303 MTE408 MTE406 CPE305 MTE204 MTE303 MEE107 | [' ']                             | [' ']                             |\n",
      "|  2 | CPE500 MEE104 MEE105 EEE404 CVE303 MTE109 MTE404 CPE402 MTE208 CVE101 | [' ']                             | [' ']                             |\n",
      "|  3 | CVE107 MEE404 MTE501 MEE408 MTE308 EEE306 EEE407 CPE209 CVE301 MEE200 | [' ']                             | ['three', 'two', 'three', 'four'] |\n"
     ]
    }
   ],
   "source": [
    "import pandas as pd\n",
    "import ast\n",
    "\n",
    "data = pd.read_csv('data.csv')\n",
    "cuData = pd.read_csv('coursesUnit.csv')\n",
    "\n",
    "data = data.drop(columns = ['Unnamed: 0'])\n",
    "cuData = cuData.drop(columns = ['Unnamed: 0'])\n",
    "# data\n",
    "# data['Courses']\n",
    "# print(data.to_markdown())\n",
    "# print(data.to_markdown())\n",
    "# print(d.to_markdown())\n",
    "# print(c.to_markdown())\n",
    "\n",
    "d =  {\n",
    "        \"Morning\\n\\n08:00am 09:00am 10:00am 11:00am\":[\n",
    "                [' '],\n",
    "                [' '],\n",
    "                [' '],\n",
    "                [' ']\n",
    "            ], \n",
    "        \"Afternoon\\n\\n11:30am 12:30pm 01:30pm 02:30pm\":[\n",
    "                [' '],\n",
    "                [' '],\n",
    "                [' '],\n",
    "                [' ']\n",
    "            ], \n",
    "        \"Evening\\n\\n03:00pm 04:00pm 05:00pm 06:00pm\":[\n",
    "                [' '],\n",
    "                [' '],\n",
    "                [' '],\n",
    "                ['three','two','three','four']\n",
    "            ]\n",
    "        }\n",
    "md = d[\"Morning\\n\\n08:00am 09:00am 10:00am 11:00am\"]\n",
    "\n",
    "b = set()\n",
    "for i in data['Courses']:\n",
    "    # print(i)\n",
    "    m = ast.literal_eval(i)\n",
    "    for v in m:\n",
    "        b.add(v)\n",
    "dayN = 0        \n",
    "c = ''\n",
    "m = 0\n",
    "i = 0\n",
    "for j in b:\n",
    "    c += ' ' +j\n",
    "    i +=1 \n",
    "    # print(\"Code: \"+j)\n",
    "    m += 1\n",
    "    if m == 5:\n",
    "        # c+='\\n'\n",
    "        m = 0\n",
    "\n",
    "    if i == 10:\n",
    "        md[dayN] = c\n",
    "        dayN += 1\n",
    "        if dayN == 4:\n",
    "            dayN = 0\n",
    "        # print(c)\n",
    "        c = ''\n",
    "        i = 0\n",
    "        continue\n",
    "mdx = pd.DataFrame(d)\n",
    "print(mdx.to_markdown())\n",
    "\n",
    "# print(d)"
   ]
  }
 ],
 "metadata": {
  "kernelspec": {
   "display_name": "Python 3.8.10 64-bit",
   "language": "python",
   "name": "python3"
  },
  "language_info": {
   "codemirror_mode": {
    "name": "ipython",
    "version": 3
   },
   "file_extension": ".py",
   "mimetype": "text/x-python",
   "name": "python",
   "nbconvert_exporter": "python",
   "pygments_lexer": "ipython3",
   "version": "3.8.10"
  },
  "orig_nbformat": 4,
  "vscode": {
   "interpreter": {
    "hash": "31f2aee4e71d21fbe5cf8b01ff0e069b9275f58929596ceb00d14d90e3e16cd6"
   }
  }
 },
 "nbformat": 4,
 "nbformat_minor": 2
}
