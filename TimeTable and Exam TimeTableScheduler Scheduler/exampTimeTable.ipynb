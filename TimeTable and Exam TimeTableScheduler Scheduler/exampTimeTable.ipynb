{
 "cells": [
  {
   "cell_type": "code",
   "execution_count": 48,
   "metadata": {},
   "outputs": [
    {
     "name": "stdout",
     "output_type": "stream",
     "text": [
      "|    | Morning                                   | Afternoon                                 | Evening                                   |\n",
      "|    |                                           |                                           |                                           |\n",
      "|    | 08:00am 09:00am 10:00am 11:00am           | 11:30am 12:30pm 01:30pm 02:30pm           | 03:00pm 04:00pm 05:00pm 06:00pm           |\n",
      "|---:|:------------------------------------------|:------------------------------------------|:------------------------------------------|\n",
      "|  0 | MEE404 MTE204 CVE405 MEE501 CVE506 MTE404 | CVE307 CPE205 CVE109 MEE400 MEE201 MEE405 | EEE200 CVE208 CVE501 EEE307 CPE209 MEE105 |\n",
      "|  1 | EEE300 MEE106 MEE401 MTE309 CVE203 CPE102 | CPE208 MTE503 CPE108 CVE402 EEE501 EEE407 | MTE500 CVE106 MTE408 MTE100 MTE308 EEE304 |\n",
      "|  2 | MTE405 CPE502 MTE306 CVE404 MEE500 MEE207 | CPE301 EEE104 MTE508 CPE307 CPE305 CVE505 | CVE104 MEE100 CVE302 EEE209 MEE408 MEE303 |\n",
      "|  3 | CVE305 EEE306 EEE406 EEE205 EEE408 CVE206 | CVE200 MTE403 MTE300 MTE307 CPE407 MEE308 | MEE409 CPE103 CVE403 CPE300 EEE302 MEE502 |\n"
     ]
    }
   ],
   "source": [
    "import pandas as pd\n",
    "import ast\n",
    "\n",
    "def et(data)-> str:\n",
    "    data = pd.read_csv(data)\n",
    "    cuData = pd.read_csv('coursesUnit.csv')\n",
    "\n",
    "    data = data.drop(columns = ['Unnamed: 0'])\n",
    "    cuData = cuData.drop(columns = ['Unnamed: 0'])\n",
    "\n",
    "    dx =  {\n",
    "            \"Morning\\n\\n08:00am 09:00am 10:00am 11:00am\":[\n",
    "                    [' '],\n",
    "                    [' '],\n",
    "                    [' '],\n",
    "                    [' ']\n",
    "                ], \n",
    "            \"Afternoon\\n\\n11:30am 12:30pm 01:30pm 02:30pm\":[\n",
    "                    [' '],\n",
    "                    [' '],\n",
    "                    [' '],\n",
    "                    [' ']\n",
    "                ], \n",
    "            \"Evening\\n\\n03:00pm 04:00pm 05:00pm 06:00pm\":[\n",
    "                    [' '],\n",
    "                    [' '],\n",
    "                    [' '],\n",
    "                    [' ']\n",
    "                ]\n",
    "            }\n",
    "    mdx = pd.DataFrame(dx)\n",
    "    scn = 0\n",
    "    ecn = 0\n",
    "    srn = 0\n",
    "    ern = 0\n",
    "    b = set()\n",
    "    for i in data['Courses']:\n",
    "        m = ast.literal_eval(i)\n",
    "        for v in m:\n",
    "            b.add(v)\n",
    "    dayN = 0        \n",
    "    c = ''\n",
    "    m = 0\n",
    "    i = 0\n",
    "    for j in b:\n",
    "        c += j + ' '\n",
    "        i +=1 \n",
    "        m += 1\n",
    "        if m == 3:\n",
    "            # c+='\\n'\n",
    "            m = 0\n",
    "\n",
    "        if i == 6:\n",
    "            ecn = scn + 1\n",
    "            ern = srn + 1\n",
    "            md = mdx.iloc[scn:ecn,srn:ern] = c\n",
    "            scn +=1\n",
    "            if scn == 4:\n",
    "                srn +=1\n",
    "                scn = 0\n",
    "            dayN += 1\n",
    "            if dayN == 4:\n",
    "                dayN = 0\n",
    "            c = ''\n",
    "            i = 0\n",
    "            continue\n",
    "\n",
    "    # print(mdx.to_markdown())\n",
    "    return mdx.to_markdown()\n",
    "print(et('data.csv'))"
   ]
  }
 ],
 "metadata": {
  "kernelspec": {
   "display_name": "Python 3.8.10 64-bit",
   "language": "python",
   "name": "python3"
  },
  "language_info": {
   "codemirror_mode": {
    "name": "ipython",
    "version": 3
   },
   "file_extension": ".py",
   "mimetype": "text/x-python",
   "name": "python",
   "nbconvert_exporter": "python",
   "pygments_lexer": "ipython3",
   "version": "3.8.10"
  },
  "orig_nbformat": 4,
  "vscode": {
   "interpreter": {
    "hash": "31f2aee4e71d21fbe5cf8b01ff0e069b9275f58929596ceb00d14d90e3e16cd6"
   }
  }
 },
 "nbformat": 4,
 "nbformat_minor": 2
}
