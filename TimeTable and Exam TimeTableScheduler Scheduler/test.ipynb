{
 "cells": [
  {
   "cell_type": "code",
   "execution_count": 30,
   "metadata": {},
   "outputs": [
    {
     "name": "stdout",
     "output_type": "stream",
     "text": [
      "19\n",
      "00\n"
     ]
    }
   ],
   "source": [
    "from datetime import date,datetime\n",
    "\n",
    "def startingDay(oDate=str) -> int:\n",
    "    # Get today's date\n",
    "    presentday = datetime.now() # or presentday = datetime.today()\n",
    "\n",
    "    Today = presentday.strftime('%Y%m%d')\n",
    "    Year = int(Today[0:4])\n",
    "    Month = int(Today[4:6])\n",
    "    Day = int(Today[6:8])\n",
    "    oYear = int(oDate[0:4])\n",
    "    oMonth = int(oDate[4:6])\n",
    "    oDay = int(oDate[6:8])\n",
    "\n",
    "    d0 = date(Year,Month,Day)\n",
    "    d1 = date(oYear,oMonth,oDay)\n",
    "    delta = d1 - d0\n",
    "    return delta.days\n",
    "print(startingDay('20220916'))\n",
    "a_number = 0\n",
    "number_str = str(a_number)\n",
    "zero_filled_number = number_str.zfill(2)\n",
    "print(zero_filled_number)"
   ]
  }
 ],
 "metadata": {
  "kernelspec": {
   "display_name": "Python 3.8.10 64-bit",
   "language": "python",
   "name": "python3"
  },
  "language_info": {
   "codemirror_mode": {
    "name": "ipython",
    "version": 3
   },
   "file_extension": ".py",
   "mimetype": "text/x-python",
   "name": "python",
   "nbconvert_exporter": "python",
   "pygments_lexer": "ipython3",
   "version": "3.8.10"
  },
  "orig_nbformat": 4,
  "vscode": {
   "interpreter": {
    "hash": "31f2aee4e71d21fbe5cf8b01ff0e069b9275f58929596ceb00d14d90e3e16cd6"
   }
  }
 },
 "nbformat": 4,
 "nbformat_minor": 2
}
