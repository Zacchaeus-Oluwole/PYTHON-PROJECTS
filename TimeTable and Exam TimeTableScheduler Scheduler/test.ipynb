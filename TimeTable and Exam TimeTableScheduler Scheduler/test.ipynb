{
 "cells": [
  {
   "cell_type": "code",
   "execution_count": 12,
   "metadata": {},
   "outputs": [
    {
     "name": "stdout",
     "output_type": "stream",
     "text": [
      "['List', 'Good', 'First']\n"
     ]
    }
   ],
   "source": [
    "# import pandas as pd\n",
    "# data = pd.read_csv('data.csv')\n",
    "\n",
    "# data = data.drop(columns = ['Unnamed: 0'])\n",
    "\n",
    "# d = data.head().iloc[0:1,:]\n",
    "# L = data['Level']\n",
    "# D = data['Dept']\n",
    "# C = data['Courses']\n",
    "# LD = zip(D,L)\n",
    "# for i in LD:\n",
    "#     v = str(i[0]) + str(i[1])\n",
    "#     print(v)\n",
    "# print(list(LD))\n",
    "\n",
    "# # print(LD.to_markdown())\n",
    "# # print(data.to_markdown())"
   ]
  }
 ],
 "metadata": {
  "kernelspec": {
   "display_name": "Python 3.8.10 64-bit",
   "language": "python",
   "name": "python3"
  },
  "language_info": {
   "codemirror_mode": {
    "name": "ipython",
    "version": 3
   },
   "file_extension": ".py",
   "mimetype": "text/x-python",
   "name": "python",
   "nbconvert_exporter": "python",
   "pygments_lexer": "ipython3",
   "version": "3.8.10"
  },
  "orig_nbformat": 4,
  "vscode": {
   "interpreter": {
    "hash": "31f2aee4e71d21fbe5cf8b01ff0e069b9275f58929596ceb00d14d90e3e16cd6"
   }
  }
 },
 "nbformat": 4,
 "nbformat_minor": 2
}
