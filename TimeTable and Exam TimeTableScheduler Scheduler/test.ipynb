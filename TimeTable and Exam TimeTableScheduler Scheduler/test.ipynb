{
 "cells": [
  {
   "cell_type": "code",
   "execution_count": 1,
   "metadata": {},
   "outputs": [
    {
     "name": "stdout",
     "output_type": "stream",
     "text": [
      "|    | A                               | B                              | C                              |\n",
      "|---:|:--------------------------------|:-------------------------------|:-------------------------------|\n",
      "|  0 | [4,2,3,4]                       | ['one','three','three','four'] | [1,9,'three','four']           |\n",
      "|  1 | ['three','two','three','four']  | ['one','two','three','four']   | [7,2,3,6]                      |\n",
      "|  2 | ['three','two','three','three'] | [1,9,3,4]                      | [1,8,'three','four']           |\n",
      "|  3 | [8,2,0,4]                       | [1,9,3,4]                      | ['three','two','three','four'] |\n"
     ]
    }
   ],
   "source": [
    "import pandas as pd\n",
    "d =  {\n",
    "        \"A\":[\n",
    "                \"[4,2,3,4]\",\n",
    "\"                ['three','two','three','four']\",\n",
    "\"                ['three','two','three','three']\",\n",
    "                \"[8,2,0,4]\"\n",
    "            ], \n",
    "        \"B\":[\n",
    "                \"['one','three','three','four']\",\n",
    "\"                ['one','two','three','four']\",\n",
    "                \"[1,9,3,4]\",\n",
    "                \"[1,9,3,4]\"\n",
    "            ], \n",
    "        \"C\":[\n",
    "\"                [1,9,'three','four']\",\n",
    "\"                [7,2,3,6]\",\n",
    "\"                [1,8,'three','four']\",\n",
    "                \"['three','two','three','four']\"\n",
    "            ]\n",
    "        }\n",
    "df = pd.DataFrame(d)\n",
    "# print(d[0:1])\n",
    "print(df.to_markdown())"
   ]
  }
 ],
 "metadata": {
  "kernelspec": {
   "display_name": "Python 3.8.10 64-bit",
   "language": "python",
   "name": "python3"
  },
  "language_info": {
   "codemirror_mode": {
    "name": "ipython",
    "version": 3
   },
   "file_extension": ".py",
   "mimetype": "text/x-python",
   "name": "python",
   "nbconvert_exporter": "python",
   "pygments_lexer": "ipython3",
   "version": "3.8.10"
  },
  "orig_nbformat": 4,
  "vscode": {
   "interpreter": {
    "hash": "31f2aee4e71d21fbe5cf8b01ff0e069b9275f58929596ceb00d14d90e3e16cd6"
   }
  }
 },
 "nbformat": 4,
 "nbformat_minor": 2
}
