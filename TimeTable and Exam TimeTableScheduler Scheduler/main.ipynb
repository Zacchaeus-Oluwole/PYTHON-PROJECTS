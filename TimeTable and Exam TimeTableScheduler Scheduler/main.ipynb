{
 "cells": [
  {
   "cell_type": "code",
   "execution_count": 94,
   "metadata": {},
   "outputs": [
    {
     "name": "stdout",
     "output_type": "stream",
     "text": [
      "|    |   Number | Days   | 08:00am   | 09:00am   | 10:00am   | 11:00am   | 12:00pm   | 01:00pm   | 02:00pm   | 03:00pm   | 04:00pm   | 05:00pm   | 06:00pm   |\n",
      "|---:|---------:|:-------|:----------|:----------|:----------|:----------|:----------|:----------|:----------|:----------|:----------|:----------|:----------|\n",
      "|  0 |        1 | Mon    |           |           |           |           |           |           |           |           |           | CPE101    |           |\n",
      "|  1 |        2 | Tue    |           |           |           |           |           |           |           | CPE103    | CPE103    |           |           |\n",
      "|  2 |        3 | Wed    |           |           |           |           |           | CPE104    |           |           |           |           |           |\n",
      "|  3 |        4 | Thur   |           | CPE100    | CPE100    | CPE100    |           |           |           |           |           |           |           |\n",
      "|  4 |        5 | Fri    |           |           |           |           |           |           |           |           |           | CPE102    | CPE102    |\n"
     ]
    }
   ],
   "source": [
    "import pandas as pd\n",
    "import ast\n",
    "import random\n",
    "data = pd.read_csv('coursesUnit.csv')\n",
    "\n",
    "# Creating a void timetable\n",
    "\n",
    "days = ['Mon','Tue','Wed','Thur','Fri']\n",
    "numberList,eight,nine,ten,eleven,twelve,one,two,three,four,five,six = [],[],[],[],[],[],[],[],[],[],[],[]\n",
    "daysC = 0\n",
    "daysList = []\n",
    "for i in range(5):\n",
    "    numberList.append(i + 1)\n",
    "    eight.append('') ,nine.append(''),ten.append(''),eleven.append(''),twelve.append(''),\n",
    "    one.append(''),two.append(''),three.append(''),four.append(''),five.append(''),six.append('')\n",
    "\n",
    "\n",
    "    daysList.append(days[daysC])\n",
    "    daysC += 1\n",
    "    if daysC == 5:\n",
    "        daysC = 0\n",
    "\n",
    "\n",
    "# A dictionary of lists\n",
    "dict = {'Number': numberList, \"Days\": daysList, \"08:00am\": eight, '09:00am':nine,\"10:00am\":ten, '11:00am':eleven,'12:00pm':twelve, '01:00pm':one, '02:00pm':two, '03:00pm':three, '04:00pm':four, '05:00pm':five, '06:00pm':six}\n",
    "\n",
    "df = pd.DataFrame(dict)\n",
    "\n",
    "# Convert the lists in string to list\n",
    "\n",
    "c = 0\n",
    "scn = 0\n",
    "# srn = 0\n",
    "choiceList = [0,1,2,3,4]\n",
    "ncl = []\n",
    "\n",
    "for i in choiceList:\n",
    "        if len(ncl) != 5:\n",
    "                choice = random.choices(choiceList, k=5)\n",
    "                for v in choice:\n",
    "                        if v not in ncl:\n",
    "                                ncl.append(v)\n",
    "        else:\n",
    "                # print(choice)\n",
    "                # print(\"NCL\",ncl)\n",
    "                break\n",
    "\n",
    "for i in data['Courses']:\n",
    "        \n",
    "        scn = ncl[c]\n",
    "        ecn = scn + 1\n",
    "\n",
    "        d = data.loc[data['Courses']== str(i)]\n",
    "        if list(d['Units'])[0]:\n",
    "                srn = random.randint(2,12)\n",
    "                if list(d['Units'])[0] == 2 and srn > 11:\n",
    "                        srn = srn - 1\n",
    "                elif list(d['Units'])[0] == 3 and srn > 10:\n",
    "                        srn = srn - 2\n",
    "                ern = srn + list(d['Units'])[0]\n",
    "                df.iloc[scn:ecn,srn:ern] = str(i)\n",
    "\n",
    "        c += 1\n",
    "        if c == 5:\n",
    "                break\n",
    "\n",
    "print(df.to_markdown())\n",
    "\n",
    "# saving the dataframe\n",
    "df.to_csv('result.csv')"
   ]
  },
  {
   "cell_type": "code",
   "execution_count": 8,
   "metadata": {},
   "outputs": [
    {
     "name": "stdout",
     "output_type": "stream",
     "text": [
      "|    |   06:00pm |\n",
      "|---:|----------:|\n",
      "|  0 |         0 |\n"
     ]
    }
   ],
   "source": [
    "\n",
    "# Creating a void timetable\n",
    "days = ['Mon','Tue','Wed','Thur','Fri']\n",
    "numberList,eight,nine,ten,eleven,twelve,one,two,three,four,five,six = [],[],[],[],[],[],[],[],[],[],[],[]\n",
    "daysC = 0\n",
    "daysList = []\n",
    "for i in range(5):\n",
    "    numberList.append(i + 1)\n",
    "    eight.append(i) ,nine.append(i),ten.append(i),eleven.append(i),twelve.append(i),\n",
    "    one.append(i),two.append(i),three.append(i),four.append(i),five.append(i),six.append(i)\n",
    "\n",
    "\n",
    "    daysList.append(days[daysC])\n",
    "    daysC += 1\n",
    "    if daysC == 5:\n",
    "        daysC = 0\n",
    "\n",
    "\n",
    "# A dictionary of lists\n",
    "dict = {'Number': numberList, \"Days\": daysList, \"08:00am\": eight, '09:00am':nine,\"10:00am\":ten, '11:00am':eleven,'12:00pm':twelve, '01:00pm':one, '02:00pm':two, '03:00pm':three, '04:00pm':four, '05:00pm':five, '06:00pm':six}\n",
    "# print(len(dict.keys()))\n",
    "# for i,k in dict.items():\n",
    "#     for v in k:\n",
    "#         print(i,v)\n",
    "df = pd.DataFrame(dict).iloc[0:1,12:13]\n",
    "print(df.to_markdown())\n",
    "\n",
    "# saving the dataframe\n",
    "# df.to_csv('result.csv')"
   ]
  }
 ],
 "metadata": {
  "kernelspec": {
   "display_name": "Python 3.8.10 64-bit",
   "language": "python",
   "name": "python3"
  },
  "language_info": {
   "codemirror_mode": {
    "name": "ipython",
    "version": 3
   },
   "file_extension": ".py",
   "mimetype": "text/x-python",
   "name": "python",
   "nbconvert_exporter": "python",
   "pygments_lexer": "ipython3",
   "version": "3.8.10"
  },
  "orig_nbformat": 4,
  "vscode": {
   "interpreter": {
    "hash": "31f2aee4e71d21fbe5cf8b01ff0e069b9275f58929596ceb00d14d90e3e16cd6"
   }
  }
 },
 "nbformat": 4,
 "nbformat_minor": 2
}
