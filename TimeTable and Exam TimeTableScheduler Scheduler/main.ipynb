{
 "cells": [
  {
   "cell_type": "code",
   "execution_count": 3,
   "metadata": {},
   "outputs": [
    {
     "name": "stdout",
     "output_type": "stream",
     "text": [
      "    Number  Level Dept\n",
      "0        1    500  MTE\n",
      "1        2    500  MTE\n",
      "2        3    500  MTE\n",
      "3        4    500  MTE\n",
      "4        5    500  MEE\n",
      "..     ...    ...  ...\n",
      "95      96    100  EEE\n",
      "96      97    100  CVE\n",
      "97      98    100  CVE\n",
      "98      99    100  CVE\n",
      "99     100    100  CVE\n",
      "\n",
      "[100 rows x 3 columns]\n"
     ]
    }
   ],
   "source": [
    "import pandas as pd\n",
    "\n",
    "data = pd.read_csv('data.csv')\n",
    "\n",
    "data = data.drop(columns = ['Unnamed: 0'])\n",
    "data\n",
    "\n",
    "# for i in data:\n",
    "#     print(i)"
   ]
  }
 ],
 "metadata": {
  "kernelspec": {
   "display_name": "Python 3.8.10 64-bit",
   "language": "python",
   "name": "python3"
  },
  "language_info": {
   "name": "python",
   "version": "3.8.10"
  },
  "orig_nbformat": 4,
  "vscode": {
   "interpreter": {
    "hash": "31f2aee4e71d21fbe5cf8b01ff0e069b9275f58929596ceb00d14d90e3e16cd6"
   }
  }
 },
 "nbformat": 4,
 "nbformat_minor": 2
}
