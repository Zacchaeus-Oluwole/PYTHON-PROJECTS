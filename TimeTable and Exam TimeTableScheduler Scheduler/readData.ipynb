{
 "cells": [
  {
   "cell_type": "code",
   "execution_count": 18,
   "metadata": {},
   "outputs": [
    {
     "name": "stdout",
     "output_type": "stream",
     "text": [
      "|    |   Number |\n",
      "|---:|---------:|\n",
      "|  0 |        1 |\n",
      "|    | Courses   |   Units |\n",
      "|---:|:----------|--------:|\n",
      "|  0 | CPE100    |       3 |\n",
      "|  1 | CPE101    |       1 |\n",
      "|  2 | CPE102    |       2 |\n",
      "|  3 | CPE103    |       2 |\n",
      "|  4 | CPE104    |       1 |\n"
     ]
    }
   ],
   "source": [
    "import pandas as pd\n",
    "\n",
    "data = pd.read_csv('data.csv')\n",
    "cuData = pd.read_csv('coursesUnit.csv')\n",
    "\n",
    "data = data.drop(columns = ['Unnamed: 0'])\n",
    "cuData = cuData.drop(columns = ['Unnamed: 0'])\n",
    "# data\n",
    "\n",
    "d = data.head().iloc[0:1,:]\n",
    "c = cuData.head()\n",
    "print(d.to_markdown())\n",
    "print(c.to_markdown())\n"
   ]
  }
 ],
 "metadata": {
  "kernelspec": {
   "display_name": "Python 3.8.10 64-bit",
   "language": "python",
   "name": "python3"
  },
  "language_info": {
   "codemirror_mode": {
    "name": "ipython",
    "version": 3
   },
   "file_extension": ".py",
   "mimetype": "text/x-python",
   "name": "python",
   "nbconvert_exporter": "python",
   "pygments_lexer": "ipython3",
   "version": "3.8.10"
  },
  "orig_nbformat": 4,
  "vscode": {
   "interpreter": {
    "hash": "31f2aee4e71d21fbe5cf8b01ff0e069b9275f58929596ceb00d14d90e3e16cd6"
   }
  }
 },
 "nbformat": 4,
 "nbformat_minor": 2
}
