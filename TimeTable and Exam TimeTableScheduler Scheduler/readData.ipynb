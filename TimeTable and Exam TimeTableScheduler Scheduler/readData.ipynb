{
 "cells": [
  {
   "cell_type": "code",
   "execution_count": 1,
   "metadata": {},
   "outputs": [
    {
     "name": "stdout",
     "output_type": "stream",
     "text": [
      "|    |   Unnamed: 0 |   Number | Days      | Date       | Morning                                   | Afternoon                                 | Evening                                   |\n",
      "|    |              |          |           |            |                                           |                                           |                                           |\n",
      "|    |              |          |           |            | 08:00am 09:00am 10:00am 11:00am           | 11:30am 12:30pm 01:30pm 02:30pm           | 03:00pm 04:00pm 05:00pm 06:00pm           |\n",
      "|---:|-------------:|---------:|:----------|:-----------|:------------------------------------------|:------------------------------------------|:------------------------------------------|\n",
      "|  0 |            0 |        1 | Friday    | 16 09 2022 | MTE206 CPE203 EEE500 MEE202 EEE208 MEE109 | EEE409 MTE505 CVE400 EEE307 MTE402 MEE503 | CPE102 CVE503 EEE103 CVE202 CVE106 MEE301 |\n",
      "|  1 |            1 |        2 | Saturday  | 17 09 2022 | MTE109 MEE408 CPE502 EEE402 MTE504 CVE408 | CVE305 CPE408 CPE309 CPE100 CVE504 EEE104 | MTE308 MTE203 CPE208 EEE503 MEE208 EEE202 |\n",
      "|  2 |            2 |        3 | Monday    | 19 09 2022 | EEE304 MTE407 MEE505 CVE302 CPE404 CPE304 | CVE205 CVE101 MEE308 MTE303 MTE205 CPE201 | MEE102 MTE104 MEE406 CPE505 EEE401 MTE509 |\n",
      "|  3 |            3 |        4 | Tuesday   | 20 09 2022 | CPE103 CVE506 EEE107 CVE209 CVE100 MEE306 | EEE505 MEE207 EEE203 MEE100 MTE101 MEE405 | CVE406 EEE300 MTE406 MEE504 CVE306 CPE400 |\n",
      "|  4 |            4 |        5 | Wednesday | 21 09 2022 | MTE305 MTE207 CPE205 EEE508 MEE201 EEE201 | CPE500 EEE405 MTE506 CVE402 EEE303 MTE405 | CPE307 CPE107 CVE508 EEE109 CVE207 CVE102 |\n",
      "|  5 |            5 |        6 | Thursday  | 22 09 2022 | MEE105 MTE107 MEE404 CPE507 EEE403 MTE503 | MEE508 CVE301 CPE401 CPE308 CPE104 CVE505 | MEE304 MTE307 MTE201 CPE206 EEE504 MEE205 |\n",
      "|  6 |            6 |        7 | Friday    | 23 09 2022 | CVE409 EEE302 MTE404 MEE501 CVE309 CPE405 | EEE105 CVE204 CVE104 MEE307 MTE302 MTE200 | EEE207 MEE108 MTE102 MEE402 CPE504 EEE408 |\n",
      "|  7 |            7 |        8 | Saturday  | 24 09 2022 | CPE306 CPE101 CVE509 EEE106 CVE208 CVE109 | CPE204 EEE502 MEE204 EEE206 MEE101 MTE105 | MTE508 CVE405 EEE305 MTE409 MEE507 CVE300 |\n",
      "|  8 |            8 |        9 | Monday    | 26 09 2022 | MEE300 MTE301 MTE204 CPE209 EEE501 MEE200 | MEE400 CPE508 EEE404 MTE501 CVE401 EEE306 | CPE407 CPE303 CPE108 CVE502 EEE100 CVE203 |\n",
      "|  9 |            9 |       10 | Tuesday   | 27 09 2022 | EEE205 MEE103 MTE103 MEE403 CPE501 EEE400 | MTE403 MEE500 CVE304 CPE406 CPE302 CPE109 | CVE103 MEE305 MTE300 MTE202 CPE202 EEE509 |\n",
      "| 10 |           10 |       11 | Wednesday | 28 09 2022 | MTE507 CVE407 EEE308 MTE400 MEE509 CVE308 | CVE500 EEE102 CVE206 CVE108 MEE309 MTE304 | MEE209 EEE204 MEE107 MTE106 MEE401 CPE509 |\n",
      "| 11 |           11 |       12 | Thursday  | 29 09 2022 | CPE403 CPE305 CPE105 CVE507 EEE101 CVE201 | MTE208 CPE207 EEE506 MEE206 EEE209 MEE104 | EEE406 MTE502 CVE403 EEE309 MTE401 MEE506 |\n",
      "| 12 |           12 |       13 | Friday    | 30 09 2022 | CVE107 MEE303 MTE306 MTE209 CPE200 EEE507 | MTE108 MEE409 CPE506 EEE407 MTE500 CVE404 | CVE303 CPE402 CPE301 CPE106 CVE501 EEE108 |\n",
      "| 13 |           13 |       14 | Saturday  | 01 10 2022 | MEE203 EEE200 MEE106 MTE100 MEE407 CPE503 | EEE301 MTE408 MEE502 CVE307 CPE409 CPE300 | CVE200 CVE105 MEE302 MTE309               |\n"
     ]
    }
   ],
   "source": [
    "import pandas as pd\n",
    "\n",
    "data = pd.read_csv('data.csv')\n",
    "cuData = pd.read_csv('coursesUnit.csv')\n",
    "edata = pd.read_csv('eresult.csv')\n",
    "\n",
    "data = data.drop(columns = ['Unnamed: 0'])\n",
    "cuData = cuData.drop(columns = ['Unnamed: 0'])\n",
    "# data\n",
    "\n",
    "d = data.head().iloc[0:1,:]\n",
    "c = cuData.head()\n",
    "# print(data.to_markdown())\n",
    "# print(c.to_markdown())\n",
    "print(edata.to_markdown()) #Exam timetable\n"
   ]
  }
 ],
 "metadata": {
  "kernelspec": {
   "display_name": "Python 3.8.10 64-bit",
   "language": "python",
   "name": "python3"
  },
  "language_info": {
   "codemirror_mode": {
    "name": "ipython",
    "version": 3
   },
   "file_extension": ".py",
   "mimetype": "text/x-python",
   "name": "python",
   "nbconvert_exporter": "python",
   "pygments_lexer": "ipython3",
   "version": "3.8.10"
  },
  "orig_nbformat": 4,
  "vscode": {
   "interpreter": {
    "hash": "31f2aee4e71d21fbe5cf8b01ff0e069b9275f58929596ceb00d14d90e3e16cd6"
   }
  }
 },
 "nbformat": 4,
 "nbformat_minor": 2
}
