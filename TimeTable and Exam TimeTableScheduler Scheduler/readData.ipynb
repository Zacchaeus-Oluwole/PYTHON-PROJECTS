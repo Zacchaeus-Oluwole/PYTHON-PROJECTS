{
 "cells": [
  {
   "cell_type": "code",
   "execution_count": 6,
   "metadata": {},
   "outputs": [
    {
     "name": "stdout",
     "output_type": "stream",
     "text": [
      "|    |   Unnamed: 0 |   Number | Days      | Date       | Morning                                   | Afternoon                                 | Evening                                   |\n",
      "|    |              |          |           |            |                                           |                                           |                                           |\n",
      "|    |              |          |           |            | 08:00am 09:00am 10:00am 11:00am           | 11:30am 12:30pm 01:30pm 02:30pm           | 03:00pm 04:00pm 05:00pm 06:00pm           |\n",
      "|---:|-------------:|---------:|:----------|:-----------|:------------------------------------------|:------------------------------------------|:------------------------------------------|\n",
      "|  0 |            0 |        1 | Friday    | 16 09 2022 | MTE502 MEE405 EEE306 MEE506 MTE202 MEE208 | MTE506 EEE506 CVE309 CVE104 MTE307 EEE301 | EEE400 MTE104 CVE204 MTE405 EEE409 MTE508 |\n",
      "|  1 |            1 |        2 | Saturday  | 17 09 2022 | CPE205 MEE402 MEE508 CPE302 EEE206 MTE101 | MTE203 CPE104 CVE407 MTE303 EEE305 MEE408 | CPE403 EEE203 EEE503 MTE108 CVE404 EEE304 |\n",
      "|  2 |            2 |        3 | Monday    | 19 09 2022 | MTE103 CVE507 CPE109 CPE502 MTE400 CVE503 | CVE307 MTE501 CPE503 MTE503 CPE507 MTE403 | CPE201 CPE209 EEE505 CVE502 MTE500 EEE504 |\n",
      "|  3 |            3 |        4 | Tuesday   | 20 09 2022 | CVE302 MEE103 CPE400 CVE103 EEE302 CPE208 | CPE306 CPE401 CVE207 MEE100 MTE304 CPE103 | MEE301 CVE105 MEE502 CVE400 CPE505 EEE105 |\n",
      "|  4 |            4 |        5 | Wednesday | 21 09 2022 | MEE305 EEE101 MTE102 MEE300 MTE200 MTE308 | CVE303 MEE400 MEE200 CVE108 CVE209 CVE200 | CVE402 CPE408 CVE406 CVE106 EEE207 CPE404 |\n",
      "|  5 |            5 |        6 | Thursday  | 22 09 2022 | CPE409 MTE205 MTE105 CPE405 EEE507 EEE307 | MTE107 MTE300 MEE507 CVE405 CVE308 CVE202 | CPE108 CPE207 CVE408 CPE200 MEE105 CPE303 |\n",
      "|  6 |            6 |        7 | Friday    | 23 09 2022 | CVE201 EEE108 CPE407 MEE207 MEE307 CVE107 | EEE102 MTE505 CVE102 CPE504 CPE107 MEE205 | EEE208 CVE409 MEE108 MTE209 CPE308 CVE401 |\n",
      "|  7 |            7 |        8 | Saturday  | 24 09 2022 | CVE203 MEE500 CPE509 MEE503 MEE409 MEE308 | CPE301 CPE202 MEE504 EEE107 EEE402 CPE307 | CVE403 MEE304 MEE102 CPE100 MTE507 MEE501 |\n",
      "|  8 |            8 |        9 | Monday    | 26 09 2022 | CVE208 CPE506 CVE504 MTE409 MEE206 CVE206 | EEE501 CPE309 CVE306 CPE500 MEE106 MEE209 | MEE401 MTE302 MEE303 EEE303 CPE204 CPE105 |\n",
      "|  9 |            9 |       10 | Tuesday   | 27 09 2022 | CPE206 EEE200 MEE101 MTE100 EEE500 MTE301 | CVE109 EEE205 MEE203 MTE106 CVE100 MTE402 | CVE501 CVE509 MTE109 MEE107 MTE201 EEE202 |\n",
      "| 10 |           10 |       11 | Wednesday | 28 09 2022 | CVE500 MEE404 EEE405 EEE502 EEE407 MEE309 | EEE201 CPE304 MTE207 CPE203 CVE101 MEE202 | MEE201 MEE406 CVE508 CVE205 EEE109 EEE308 |\n",
      "| 11 |           11 |       12 | Thursday  | 29 09 2022 | EEE104 EEE106 EEE508 MTE204 CPE102 EEE509 | CVE304 MTE408 MTE509 CVE506 MEE403 MTE401 | MEE302 MEE509 EEE403 MTE309 MEE306 EEE408 |\n",
      "| 12 |           12 |       13 | Friday    | 30 09 2022 | MTE504 CVE505 EEE300 CPE501 MEE407 EEE401 | CPE106 MTE305 CPE305 CVE301 MTE406 CVE305 | EEE309 EEE204 CPE402 EEE404 MTE407 CPE406 |\n",
      "| 13 |           13 |       14 | Saturday  | 01 10 2022 | CPE300 MTE206 MEE505 EEE209 MEE109 MTE404 | CPE101 EEE100 MEE204 EEE406 MTE208 MEE104 | CVE300 CPE508 MTE306 EEE103               |\n"
     ]
    }
   ],
   "source": [
    "import pandas as pd\n",
    "\n",
    "data = pd.read_csv('data.csv')\n",
    "cuData = pd.read_csv('coursesUnit.csv')\n",
    "edata = pd.read_csv('eresult.csv')\n",
    "\n",
    "data = data.drop(columns = ['Unnamed: 0'])\n",
    "cuData = cuData.drop(columns = ['Unnamed: 0'])\n",
    "# data\n",
    "\n",
    "d = data.head().iloc[0:1,:]\n",
    "c = cuData.head()\n",
    "# print(data.to_markdown())\n",
    "# print(c.to_markdown())\n",
    "print(edata.to_markdown()) #Exam timetable\n"
   ]
  }
 ],
 "metadata": {
  "kernelspec": {
   "display_name": "Python 3.8.10 64-bit",
   "language": "python",
   "name": "python3"
  },
  "language_info": {
   "codemirror_mode": {
    "name": "ipython",
    "version": 3
   },
   "file_extension": ".py",
   "mimetype": "text/x-python",
   "name": "python",
   "nbconvert_exporter": "python",
   "pygments_lexer": "ipython3",
   "version": "3.8.10"
  },
  "orig_nbformat": 4,
  "vscode": {
   "interpreter": {
    "hash": "31f2aee4e71d21fbe5cf8b01ff0e069b9275f58929596ceb00d14d90e3e16cd6"
   }
  }
 },
 "nbformat": 4,
 "nbformat_minor": 2
}
