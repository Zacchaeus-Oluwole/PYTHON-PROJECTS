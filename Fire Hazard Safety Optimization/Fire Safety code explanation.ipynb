{
 "cells": [
  {
   "cell_type": "code",
   "execution_count": null,
   "metadata": {},
   "outputs": [],
   "source": [
    "import numpy as np\n",
    "\n",
    "#This line imports the NumPy library which is used for mathematical and scientific computing in Python."
   ]
  },
  {
   "cell_type": "code",
   "execution_count": null,
   "metadata": {},
   "outputs": [],
   "source": [
    "def DynamicSafety(tmax, n, C, S, Successor):\n",
    "    \n",
    "#This line defines a function named DynamicSafety which takes five arguments: tmax, n, C, S, and Successor.\n",
    "#This function is used to compute the dynamic safety matrix and successor matrix."
   ]
  },
  {
   "cell_type": "code",
   "execution_count": null,
   "metadata": {},
   "outputs": [],
   "source": [
    "    V = np.arange(n)\n",
    "    H = np.zeros(n)\n",
    "\n",
    "    # These two lines initialize two arrays. V is an array containing integers from 0 to n-1, \n",
    "    # and H is an array of zeros with length n."
   ]
  },
  {
   "cell_type": "code",
   "execution_count": null,
   "metadata": {},
   "outputs": [],
   "source": [
    "    for t in range(tmax):\n",
    "        for u in V:\n",
    "            S[t][u][u] = 0\n",
    "            Successor[t][u][u] = -1\n",
    "\n",
    "            for v in np.delete(V, u):\n",
    "                S[t][u][v] = -np.inf\n",
    "                Successor[t][u][v] = u\n",
    "\n",
    "            # Find the shortest path at time T using a static solution\n",
    "            if t == tmax - 1:\n",
    "                StaticSafety(S[t], Successor[t])\n",
    "\n",
    "\n",
    "    # These lines perform the forward iteration to compute the dynamic safety and successor matrices. \n",
    "    # For each time step t and node u, the diagonal element of S[t] and Successor[t] is set to 0 and -1, respectively. \n",
    "    # Then, for each node v that is not u, the corresponding entry of S[t][u][v] is set to negative infinity \n",
    "    # and the corresponding entry of Successor[t][u][v] is set to u.\n",
    "\n",
    "    # If t is the last time step, i.e., tmax-1, the function StaticSafety is called with arguments S[t] \n",
    "    # and Successor[t]. This function is used to find the shortest path at time tmax-1 using a static solution."
   ]
  },
  {
   "cell_type": "code",
   "execution_count": null,
   "metadata": {},
   "outputs": [],
   "source": [
    "        for t in range(tmax - 2, -1, -1):\n",
    "            for u in V:\n",
    "                for v in V:\n",
    "                    for w in np.where(C[t][u] != 0)[0]:\n",
    "                        if t+C[t][u][w] < tmax and S[t][u][v] < S[t+C[t][u][w]][w][v] - C[t][u][w]:\n",
    "                            S[t][u][v] = S[t+C[t][u][w]][w][v] - C[t][u][w]\n",
    "                            Successor[t][u][v] = w\n",
    "\n",
    "                S[t][u] = np.minimum(S[t][u], H[t])\n",
    "\n",
    "                if t == 0:\n",
    "                    break\n",
    "    return S, Successor\n",
    "\n",
    "\n",
    "        # These lines perform the backward iteration to compute the dynamic safety and successor matrices. \n",
    "        # For each time step t, node u, and node v, \n",
    "        # the code checks if there is a path from u to v through node w \n",
    "        # such that the safety of the path is better than the current safety of the path from u to v. \n",
    "        # If such a path exists, the safety of the path and the corresponding successor node are updated in S and Successor, respectively.\n",
    "\n",
    "        # Then, for each node u, the minimum of S[t][u] and H[t] is taken and stored in S[t][u]. \n",
    "        # Finally, if t is 0, the loop is broken."
   ]
  },
  {
   "cell_type": "code",
   "execution_count": null,
   "metadata": {},
   "outputs": [],
   "source": [
    "def StaticSafety(S, Successor):\n",
    "    n = S.shape[0]\n",
    "    \n",
    "    for k in range(n):\n",
    "        for i in range(n):\n",
    "            for j in range(n):\n",
    "                if S[i][k] + S[k][j] < S[i][j]:\n",
    "                    S[i][j] = S[i][k] + S[k][j]\n",
    "                    Successor[i][j] = Successor[i][k]\n",
    "                    \n",
    "    return S, Successor\n",
    "\n",
    "\n",
    "# This is the implementation of the StaticSafety function used in the DynamicSafety function.\n",
    "# n = S.shape[0]: This line assigns the number of rows in the matrix S to the variable n.\n",
    "# for k in range(n):: This line starts a loop that iterates over every node in the graph, which is represented by the variable k.\n",
    "# for i in range(n):: This line starts a nested loop that iterates over every possible starting node in the graph, which is represented by the variable i.\n",
    "# for j in range(n):: This line starts another nested loop that iterates over every possible ending node in the graph, which is represented by the variable j.\n",
    "# if S[i][k] + S[k][j] < S[i][j]:: This line checks whether the distance between node i and node j can be shortened by going through node k.\n",
    "# S[i][j] = S[i][k] + S[k][j]: This line updates the distance between node i and node j to be the sum of the distances between node i and node k, and between node k and node j.\n",
    "# Successor[i][j] = Successor[i][k]: This line updates the Successor matrix to show that the shortest path from node i to node j goes through node k.\n",
    "# return S, Successor: This line returns the updated S and Successor matrices."
   ]
  },
  {
   "cell_type": "code",
   "execution_count": null,
   "metadata": {},
   "outputs": [],
   "source": [
    "n = 4\n",
    "tmax = 3\n",
    "C = np.array([\n",
    "    [[0, 1, 2, 0], [1, 0, 0, 0], [0, 0, 0, 1], [0, 0, 0, 0]],\n",
    "    [[0, 0, 0, 0], [0, 0, 2, 0], [0, 0, 0, 0], [1, 0, 0, 0]],\n",
    "    [[0, 0, 0, 1], [0, 0, 0, 0], [0, 0, 0, 0], [0, 0, 1, 0]]\n",
    "])\n",
    "S = np.zeros((tmax, n, n))\n",
    "Successor = np.zeros((tmax, n, n), dtype=np.int32)\n",
    "\n",
    "SafetyMatrix, SuccessorMatrix = DynamicSafety(tmax, n, C, S, Successor)\n",
    "print(\"Dynamic Safety matrices:\\n\",SafetyMatrix)\n",
    "print(\"Successor matrices:\\n\",SuccessorMatrix)\n",
    "\n",
    "\n",
    "# n = 4: sets the number of nodes in the graph to 4.\n",
    "\n",
    "# tmax = 3: sets the maximum time horizon to 3.\n",
    "\n",
    "# C = np.array([...]): creates a 3-dimensional numpy array that represents the cost matrix for the graph.\n",
    "                    # The first dimension represents the time step, and the other two dimensions represent the start \n",
    "                    #and end nodes of each edge. For example, C[0][1][0] is the cost of the edge from node 0 to node 1 at time step 0.\n",
    "\n",
    "# S = np.zeros((tmax, n, n)): creates a 3-dimensional numpy array of size tmax by n by n that will hold the shortest path lengths between all pairs of nodes at each time step.\n",
    "# Successor = np.zeros((tmax, n, n), dtype=np.int32): creates a 3-dimensional numpy array of size tmax by n by n \n",
    "                    # that will hold the next node in the shortest path between all pairs of nodes at each time step.\n",
    "    \n",
    "# SafetyMatrix, SuccessorMatrix = DynamicSafety(tmax, n, C, S, Successor):  runs the DynamicSafety function with the given inputs \n",
    "                    # and assigns the resulting safety and successor matrices to SafetyMatrix and SuccessorMatrix, respectively.\n",
    "    \n",
    "# print(\"Dynamic Safety matrices:\\n\",SafetyMatrix): prints the safety matrices.\n",
    "# print(\"Successor matrices:\\n\",SuccessorMatrix): prints the successor matrices."
   ]
  }
 ],
 "metadata": {
  "kernelspec": {
   "display_name": "Python 3",
   "language": "python",
   "name": "python3"
  },
  "language_info": {
   "codemirror_mode": {
    "name": "ipython",
    "version": 3
   },
   "file_extension": ".py",
   "mimetype": "text/x-python",
   "name": "python",
   "nbconvert_exporter": "python",
   "pygments_lexer": "ipython3",
   "version": "3.8.10"
  }
 },
 "nbformat": 4,
 "nbformat_minor": 4
}
